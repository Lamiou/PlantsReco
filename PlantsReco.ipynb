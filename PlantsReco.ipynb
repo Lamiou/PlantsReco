{
  "nbformat": 4,
  "nbformat_minor": 0,
  "metadata": {
    "colab": {
      "name": "Untitled3.ipynb",
      "provenance": [],
      "collapsed_sections": [],
      "authorship_tag": "ABX9TyMpyxTSCZTm5ZDU/RNeuH2q",
      "include_colab_link": true
    },
    "kernelspec": {
      "name": "python3",
      "display_name": "Python 3"
    },
    "language_info": {
      "name": "python"
    },
    "accelerator": "GPU"
  },
  "cells": [
    {
      "cell_type": "markdown",
      "metadata": {
        "id": "view-in-github",
        "colab_type": "text"
      },
      "source": [
        "<a href=\"https://colab.research.google.com/github/Lamiou/PlantsReco/blob/main/PlantsReco.ipynb\" target=\"_parent\"><img src=\"https://colab.research.google.com/assets/colab-badge.svg\" alt=\"Open In Colab\"/></a>"
      ]
    },
    {
      "cell_type": "markdown",
      "source": [
        "Partie 1 : Préparation de données"
      ],
      "metadata": {
        "id": "-_Z9OX79cFoe"
      }
    },
    {
      "cell_type": "code",
      "execution_count": 5,
      "metadata": {
        "colab": {
          "base_uri": "https://localhost:8080/"
        },
        "id": "v0nax_qfPh4L",
        "outputId": "034fe28c-2cf7-484b-e27f-6c795aa9924d"
      },
      "outputs": [
        {
          "output_type": "stream",
          "name": "stdout",
          "text": [
            "\u001b[K     |████████████████████████████████| 720 kB 12.3 MB/s \n",
            "\u001b[K     |████████████████████████████████| 46 kB 4.2 MB/s \n",
            "\u001b[K     |████████████████████████████████| 189 kB 48.7 MB/s \n",
            "\u001b[K     |████████████████████████████████| 1.2 MB 43.9 MB/s \n",
            "\u001b[K     |████████████████████████████████| 56 kB 4.5 MB/s \n",
            "\u001b[K     |████████████████████████████████| 51 kB 322 kB/s \n",
            "\u001b[?25h"
          ]
        }
      ],
      "source": [
        "!pip install -Uqq fastbook\n",
        "\n"
      ]
    },
    {
      "cell_type": "code",
      "source": [
        "import os\n",
        "import pandas as pd \n",
        "import matplotlib.pyplot as plt\n",
        "import fastbook\n",
        "fastbook.setup_book()"
      ],
      "metadata": {
        "id": "JUnXplOEddQq"
      },
      "execution_count": 73,
      "outputs": []
    },
    {
      "cell_type": "markdown",
      "source": [
        "Rename des images\n"
      ],
      "metadata": {
        "id": "Ems2Lk3doUaI"
      }
    },
    {
      "cell_type": "code",
      "source": [
        "directory = 'gdrive/MyDrive/archive/Ornamental_Plants/test/'\n",
        "\n",
        "nameFolder = os.listdir(directory) # Recupération des noms des sous-dossiers dans le dossier tests\n",
        "\n",
        "for names in nameFolder :\n",
        "  for count, filename in enumerate(os.listdir(f'{directory}{names}')):\n",
        "    newName = f\"{names}_{str(count)}.jpg\" # nouveau nom du fichier\n",
        "    src = f\"{directory}{names}/{filename}\" # source du fichier\n",
        "    dst = f\"{directory}{names}/{newName}\" # destination \n",
        "\n",
        "    os.rename(src,dst) # Méthode rename pour renomé les images "
      ],
      "metadata": {
        "id": "oVKFZpdbnZLB"
      },
      "execution_count": 71,
      "outputs": []
    },
    {
      "cell_type": "markdown",
      "source": [
        "Verification si le nom des images a bien été changer"
      ],
      "metadata": {
        "id": "1b58K_ibzdRw"
      }
    },
    {
      "cell_type": "code",
      "source": [
        "for names in nameFolder :\n",
        "  print(names)\n",
        "  for filename in os.listdir(f'{directory}{names}'):\n",
        "    print(filename)\n"
      ],
      "metadata": {
        "id": "6UsNTkwWwwVx"
      },
      "execution_count": null,
      "outputs": []
    },
    {
      "cell_type": "markdown",
      "source": [
        "Diagrammes repartitions des données "
      ],
      "metadata": {
        "id": "YHLfy1GC5yN8"
      }
    },
    {
      "cell_type": "code",
      "source": [
        "number_classes = {'Rain Lily': len(os.listdir('gdrive/MyDrive/archive/Ornamental_Plants/test/Rain_Lily')),\n",
        "                  'Zinnia Elegans': len(os.listdir('gdrive/MyDrive/archive/Ornamental_Plants/test/Zinnia_Elegans')),\n",
        "                  'Mirabilis Jalapa': len(os.listdir('gdrive/MyDrive/archive/Ornamental_Plants/test/Mirabilis_Jalapa')),\n",
        "                  'Echeveria Flower': len(os.listdir('gdrive/MyDrive/archive/Ornamental_Plants/test/Echeveria_Flower')),\n",
        "                  'Damask Rose': len(os.listdir('gdrive/MyDrive/archive/Ornamental_Plants/test/Damask_Rose'))}\n",
        "\n",
        "plt.bar(number_classes.keys(), number_classes.values(), width = .5);plt.title(\"Number of Images by Directory\");plt.xlabel('Directory');plt.ylabel('Images');"
      ],
      "metadata": {
        "colab": {
          "base_uri": "https://localhost:8080/",
          "height": 302
        },
        "id": "oQFkS-ki5uAi",
        "outputId": "c3b87bdb-2011-4fe1-8abc-8be23094920f"
      },
      "execution_count": 76,
      "outputs": [
        {
          "output_type": "display_data",
          "data": {
            "image/png": "[encoded data removed]",
            "text/plain": [
              "<Figure size 432x288 with 1 Axes>"
            ]
          },
          "metadata": {
            "needs_background": "light"
          }
        }
      ]
    },
    {
      "cell_type": "markdown",
      "source": [
        "Dans le diagramme ci-dessous nous pouvons observer nombre d'images par dossier nous pouvons observer que la pluspart des dossier on le même nombre d'image ce qui auras pour impacte d'avoir un accuracy pratiquement identique. Mais nous pouvons observé également qu'un des sous dossier a un peu nombre d'images afin d'augmenter celui-ci il faudras donc faire une augmentation images."
      ],
      "metadata": {
        "id": "QPHdEeHt7IYy"
      }
    },
    {
      "cell_type": "markdown",
      "source": [
        "Partie 2 : Model Building"
      ],
      "metadata": {
        "id": "2elYCOIHcJ5R"
      }
    },
    {
      "cell_type": "code",
      "source": [
        ""
      ],
      "metadata": {
        "id": "f0oBTEUJ5TBd"
      },
      "execution_count": null,
      "outputs": []
    },
    {
      "cell_type": "code",
      "source": [
        ""
      ],
      "metadata": {
        "id": "DpuqwRDz5TU5"
      },
      "execution_count": null,
      "outputs": []
    },
    {
      "cell_type": "code",
      "source": [
        ""
      ],
      "metadata": {
        "id": "rOpJu3Jt5TlN"
      },
      "execution_count": null,
      "outputs": []
    },
    {
      "cell_type": "code",
      "source": [
        ""
      ],
      "metadata": {
        "id": "gP1moaff5T0s"
      },
      "execution_count": null,
      "outputs": []
    }
  ]
}